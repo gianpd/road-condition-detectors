{
 "cells": [
  {
   "cell_type": "markdown",
   "metadata": {},
   "source": [
    "# Exploration dataset"
   ]
  },
  {
   "cell_type": "code",
   "execution_count": null,
   "metadata": {},
   "outputs": [],
   "source": [
    "import os\n",
    "import sys\n",
    "import logging\n",
    "import warnings\n",
    "warnings.filterwarnings('ignore')\n",
    "logging.basicConfig(stream=sys.stdout, format='',\n",
    "                level=logging.INFO, datefmt=None)\n",
    "logger = logging.getLogger('RCD-exploration')"
   ]
  },
  {
   "cell_type": "code",
   "execution_count": null,
   "metadata": {},
   "outputs": [],
   "source": [
    "#https://stackoverflow.com/questions/40536560/ipython-and-jupyter-autocomplete-not-working\n",
    "%config Completer.use_jedi = False \n",
    "\n",
    "import os\n",
    "import sys\n",
    "from pathlib import Path\n",
    "import json\n",
    "\n",
    "import numpy as np\n",
    "\n",
    "#import tensorflow as tf\n",
    "#import tensorflow_hub as hub\n",
    "\n",
    "import PIL\n",
    "from PIL import Image, ImageDraw\n",
    "from io import BytesIO\n",
    "import matplotlib.pylab as plt\n",
    "plt.rcParams['figure.figsize'] = (8.0, 6.0)\n",
    "plt.rcParams['axes.titlepad'] = 20 \n",
    "\n",
    "from IPython.display import display, Markdown, HTML\n",
    "\n",
    "#print(\"TF version:\", tf.__version__)\n",
    "#print(\"Hub version:\", hub.__version__)\n",
    "#print(\"GPU is\", \"available\" if tf.config.list_physical_devices('GPU') else \"NOT AVAILABLE\")"
   ]
  },
  {
   "cell_type": "code",
   "execution_count": null,
   "metadata": {},
   "outputs": [],
   "source": [
    "from IPython.core.interactiveshell import InteractiveShell\n",
    "InteractiveShell.ast_node_interactivity = 'all'"
   ]
  },
  {
   "cell_type": "markdown",
   "metadata": {},
   "source": [
    "## Download dataset"
   ]
  },
  {
   "cell_type": "code",
   "execution_count": null,
   "metadata": {},
   "outputs": [],
   "source": [
    "def preprocess_image(image):\n",
    "  image = np.array(image)\n",
    "  # reshape into shape [batch_size, height, width, num_channels]\n",
    "  img_reshaped = tf.reshape(image, [1, image.shape[0], image.shape[1], image.shape[2]])\n",
    "  # Use `convert_image_dtype` to convert to floats in the [0,1] range.\n",
    "  image = tf.image.convert_image_dtype(img_reshaped, tf.float32)\n",
    "  return image\n",
    "\n",
    "def load_image_from_path(img_path: str) -> tf.Tensor:\n",
    "  \"\"\"Returns an image with shape [1, height, width, num_channels].\"\"\"\n",
    "  image = Image.open(Path(img_path))\n",
    "  image = preprocess_image(image)\n",
    "  return image\n",
    "\n",
    "def show_image(image, title=''):\n",
    "  image_size = image.shape[1]\n",
    "  w = (image_size * 6) // 320\n",
    "  plt.figure(figsize=(w, w))\n",
    "  plt.imshow(image[0], aspect='equal')\n",
    "  plt.axis('off')\n",
    "  plt.title(title)\n",
    "  plt.show()"
   ]
  },
  {
   "cell_type": "code",
   "execution_count": null,
   "metadata": {},
   "outputs": [],
   "source": [
    "CLASSES = ['good', 'poor', 'verypoor', 'satis']\n",
    "img_ls = []\n",
    "for c in CLASSES:\n",
    "    PATH_GOOD_IMG = f\"../dataset/sih_road_dataset/{c}/{c}_001.jpg\"\n",
    "    img_ls.append(load_image_from_path(PATH_GOOD_IMG))\n",
    "  \n",
    "fig, axes = plt.subplots(nrows=2, ncols=2)\n",
    "for i, img in enumerate(img_ls):\n",
    "    offset = i % 2\n",
    "    # Plotting each image\n",
    "    axes[i//2][offset].imshow(img[0])\n",
    "    # Set labels and turning off axes \n",
    "    axes[i//2][offset].set_title(CLASSES[i].upper())\n",
    "    axes[i//2][offset].axis('off')"
   ]
  },
  {
   "cell_type": "markdown",
   "metadata": {},
   "source": [
    "# Dataset stats"
   ]
  },
  {
   "cell_type": "code",
   "execution_count": null,
   "metadata": {},
   "outputs": [],
   "source": [
    "import pandas as pd\n",
    "\n",
    "stats_df = pd.DataFrame(columns=['class', '#'])\n",
    "img_sizes = []\n",
    "img_path = []\n",
    "for n, c in enumerate(CLASSES):\n",
    "    # get classes info\n",
    "    dir_path = Path(f'../dataset/sih_road_dataset/{c}')\n",
    "    n_imgs = len(list(dir_path.glob('*.jpg')))\n",
    "    stats_df.loc[n, 'class'] = c\n",
    "    stats_df.loc[n, '#'] = n_imgs\n",
    "    # get images size\n",
    "    for p in dir_path.iterdir():\n",
    "        if str(p).endswith('.jpg'):\n",
    "            # [(img1_width, img1_height),..., (imgN_width, imgN_height)]\n",
    "            img_sizes.append(Image.open(p).size)\n",
    "            img_path.append(p)\n",
    "\n",
    "img_size_df = pd.DataFrame.from_records(img_sizes)\n",
    "img_size_df.columns = ['width', 'height']\n",
    "img_size_df.index = img_path\n",
    "stats_df\n",
    "img_size_df.describe()"
   ]
  },
  {
   "cell_type": "code",
   "execution_count": null,
   "metadata": {},
   "outputs": [],
   "source": [
    "img_size_df.head()"
   ]
  },
  {
   "cell_type": "code",
   "execution_count": null,
   "metadata": {},
   "outputs": [],
   "source": [
    "img1 = Image.open(img_size_df.index[0]).resize((512, 512))\n",
    "img2 = Image.open(img_size_df.index[10]).resize((512, 512))\n",
    "img1.show()\n",
    "img2.show()\n",
    "Image.blend(img1, img2, alpha=0.5).resize((512,512)).show()"
   ]
  },
  {
   "cell_type": "code",
   "execution_count": null,
   "metadata": {},
   "outputs": [],
   "source": [
    "mask = Image.new('L', size=img1.size, color=0)\n",
    "mask.show()\n",
    "draw = ImageDraw.Draw(mask)\n",
    "draw.ellipse((250, 350, 300, 400), fill=255)\n",
    "mask.show()\n",
    "img_composed = Image.composite(img1, img2, mask)\n",
    "img_composed.show()"
   ]
  }
 ],
 "metadata": {
  "interpreter": {
   "hash": "8fc62388e0bd055817b34f7d50bf8fc5460aea1095b20852d2e57ed48f95654a"
  },
  "kernelspec": {
   "display_name": "Python 3.8.10 64-bit ('RCD': venv)",
   "name": "python3"
  },
  "language_info": {
   "codemirror_mode": {
    "name": "ipython",
    "version": 3
   },
   "file_extension": ".py",
   "mimetype": "text/x-python",
   "name": "python",
   "nbconvert_exporter": "python",
   "pygments_lexer": "ipython3",
   "version": "3.8.10"
  },
  "orig_nbformat": 4
 },
 "nbformat": 4,
 "nbformat_minor": 2
}
